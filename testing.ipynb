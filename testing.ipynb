{
 "cells": [
  {
   "cell_type": "code",
   "execution_count": null,
   "metadata": {},
   "outputs": [],
   "source": [
    "import numpy as np\n",
    "from keras.applications import VGG16\n",
    "\n",
    "size = (224, 224, 3)\n",
    "\n",
    "vgg16 = VGG16(weights='imagenet', include_top=False, input_shape=size)\n",
    "\n",
    "for layer in vgg16.layers:\n",
    "    layer.trainable = False"
   ]
  },
  {
   "cell_type": "code",
   "execution_count": null,
   "metadata": {},
   "outputs": [],
   "source": [
    "from keras.models import Sequential, Model\n",
    "from keras.layers import Dense, Dropout, Activation, Flatten\n",
    "from keras.layers import Conv2D, MaxPooling2D\n",
    "from keras.layers.normalization import BatchNormalization\n",
    "\n",
    "num_classes =2\n",
    "\n",
    "l = vgg16.output\n",
    "l = Flatten(name='flatten')(l)\n",
    "fc1 = Dense(256, activation='relu')(l)\n",
    "fc1 = Dropout(0.3)(fc1)\n",
    "fc_head = Dense(num_classes, activation='softmax')(fc1)\n",
    "\n",
    "model = Model(inputs = vgg16.input, outputs=fc_head)\n",
    "\n",
    "model.summary()"
   ]
  },
  {
   "cell_type": "code",
   "execution_count": null,
   "metadata": {},
   "outputs": [],
   "source": [
    "# from keras.models import model_from_json\n",
    "# json_file = open('model.json', 'r')\n",
    "# loaded_model_json = json_file.read()\n",
    "# json_file.close()\n",
    "# loaded_model = model_from_json(loaded_model_json)\n",
    "# load weights into new model\n",
    "\n",
    "model.load_weights(\"save.h5\")\n",
    "print(\"Loaded model from disk\")"
   ]
  },
  {
   "cell_type": "code",
   "execution_count": null,
   "metadata": {},
   "outputs": [],
   "source": [
    "# from keras.preprocessing import image\n",
    "# pred = image.load_img('./img.jpg', target_size=(256, 256))\n",
    "# pred = image.img_to_array(pred)\n",
    "# pred = np.expand_dims(pred, axis=0)\n",
    "\n",
    "# result = new_model.predict(pred)\n",
    "# if np.argmax(result[0]==0):\n",
    "#     print(\"Healthy\")\n",
    "# else:\n",
    "#     print(\"Rice blast!\")\n"
   ]
  },
  {
   "cell_type": "code",
   "execution_count": null,
   "metadata": {},
   "outputs": [],
   "source": [
    "from keras.preprocessing import image\n",
    "import cv2\n",
    "e1=0\n",
    "e2=0\n",
    "for i in range(1, 20):\n",
    "    pred = image.load_img('./test/'+str(i)+'.jpg', target_size=(224, 224))\n",
    "    img = cv2.imread('./test/'+str(i)+'.jpg')\n",
    "    pred = image.img_to_array(pred)\n",
    "    pred = np.expand_dims(pred, axis=0)\n",
    "\n",
    "    result = model.predict(pred)\n",
    "    if np.argmax(result[0]==0):\n",
    "        print(\"Healthy\")\n",
    "        cv2.imshow(\"Healthy\", img)\n",
    "        cv2.waitKey()\n",
    "        cv2.destroyAllWindows()\n",
    "        e1+=1\n",
    "    else:\n",
    "        print(\"Rice blast!\", i)\n",
    "        cv2.imshow(\"Rice blast\", img)\n",
    "        cv2.waitKey()\n",
    "        cv2.destroyAllWindows()\n",
    "        e2+=1"
   ]
  }
 ],
 "metadata": {
  "kernelspec": {
   "display_name": "Python 3",
   "language": "python",
   "name": "python3"
  },
  "language_info": {
   "codemirror_mode": {
    "name": "ipython",
    "version": 3
   },
   "file_extension": ".py",
   "mimetype": "text/x-python",
   "name": "python",
   "nbconvert_exporter": "python",
   "pygments_lexer": "ipython3",
   "version": "3.7.6"
  }
 },
 "nbformat": 4,
 "nbformat_minor": 4
}
